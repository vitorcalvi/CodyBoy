{
 "cells": [
  {
   "cell_type": "code",
   "execution_count": 2,
   "id": "002762d7",
   "metadata": {},
   "outputs": [
    {
     "ename": "SyntaxError",
     "evalue": "Cannot use import statement outside a module",
     "output_type": "error",
     "traceback": [
      "evalmachine.<anonymous>:1",
      "import * as tf from '@tensorflow/tfjs'",
      "^^^^^^",
      "",
      "SyntaxError: Cannot use import statement outside a module",
      "    at new Script (node:vm:100:7)",
      "    at createScript (node:vm:265:10)",
      "    at Object.runInThisContext (node:vm:313:10)",
      "    at run ([eval]:1020:15)",
      "    at onRunRequest ([eval]:864:18)",
      "    at onMessage ([eval]:828:13)",
      "    at process.emit (node:events:513:28)",
      "    at emit (node:internal/child_process:939:14)",
      "    at processTicksAndRejections (node:internal/process/task_queues:84:21)"
     ]
    }
   ],
   "source": [
    "import * as tf from '@tensorflow/tfjs'"
   ]
  }
 ],
 "metadata": {
  "kernelspec": {
   "display_name": "JavaScript (Node.js)",
   "language": "javascript",
   "name": "javascript"
  },
  "language_info": {
   "file_extension": ".js",
   "mimetype": "application/javascript",
   "name": "javascript",
   "version": "16.17.0"
  }
 },
 "nbformat": 4,
 "nbformat_minor": 5
}
